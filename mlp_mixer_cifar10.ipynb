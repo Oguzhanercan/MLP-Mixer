{
 "cells": [
  {
   "cell_type": "markdown",
   "metadata": {},
   "source": [
    "To work with mlp mixer, you need to clone my repository, all packeges I wrote in there"
   ]
  },
  {
   "cell_type": "markdown",
   "metadata": {},
   "source": [
    "You can easily run the ipynb via https://www.kaggle.com/oguzhanercan/mlp-mixer-cifar10-classification"
   ]
  },
  {
   "cell_type": "code",
   "execution_count": null,
   "metadata": {},
   "outputs": [],
   "source": [
    "# !git clone https://github.com/Oguzhanercan/MLP-Mixer"
   ]
  },
  {
   "cell_type": "markdown",
   "metadata": {},
   "source": [
    "# Import Libraries and packages"
   ]
  },
  {
   "cell_type": "code",
   "execution_count": 1,
   "metadata": {},
   "outputs": [],
   "source": [
    "import torch\n",
    "from torch import nn\n",
    "from PIL import Image\n",
    "import numpy as np\n",
    "import einops\n",
    "import os \n",
    "import pandas as pd\n",
    "import cv2\n",
    "import torchvision\n",
    "import torchvision.transforms as transforms\n",
    "from torch.utils.data.sampler import SubsetRandomSampler\n",
    "from tqdm import tqdm\n",
    "from __future__ import print_function\n",
    "from ipywidgets import interact, interactive, fixed, interact_manual\n",
    "import ipywidgets as widgets\n",
    "import matplotlib.pyplot as plt"
   ]
  },
  {
   "cell_type": "code",
   "execution_count": 2,
   "metadata": {},
   "outputs": [],
   "source": [
    "param_path= \"model.pt\""
   ]
  },
  {
   "cell_type": "markdown",
   "metadata": {},
   "source": [
    "Below I import my mlp mixer implementation."
   ]
  },
  {
   "cell_type": "code",
   "execution_count": 3,
   "metadata": {},
   "outputs": [],
   "source": [
    "from mlp_mixer import mlp_mixer as mm"
   ]
  },
  {
   "cell_type": "markdown",
   "metadata": {},
   "source": [
    "We are dealing with multi-class image classification, so we use Cross Entropy Loss function."
   ]
  },
  {
   "cell_type": "code",
   "execution_count": 4,
   "metadata": {},
   "outputs": [],
   "source": [
    "criterion = nn.CrossEntropyLoss()"
   ]
  },
  {
   "cell_type": "markdown",
   "metadata": {},
   "source": [
    "The MLP-Mixer paper suggest the patch size as 16. But we are dealing with 32x32 images. So if we use patch size as 16, there will be 4 patches. In this case the attention queries will be to small, the most important parameter for this model. "
   ]
  },
  {
   "cell_type": "code",
   "execution_count": 5,
   "metadata": {},
   "outputs": [],
   "source": [
    "def create_model(patch_size):\n",
    " return  mm.Mixer(\n",
    "        num_classes= 10,\n",
    "        img_size= 32,\n",
    "        patch_size=patch_size)"
   ]
  },
  {
   "cell_type": "markdown",
   "metadata": {},
   "source": [
    "initialization of parameters"
   ]
  },
  {
   "cell_type": "code",
   "execution_count": 6,
   "metadata": {},
   "outputs": [],
   "source": [
    "def init_params(path):\n",
    "    model.load_state_dict(torch.load(path,map_location=dvc))\n"
   ]
  },
  {
   "cell_type": "markdown",
   "metadata": {},
   "source": [
    "Creating selected optimizer, I offer 2 different optimizers."
   ]
  },
  {
   "cell_type": "code",
   "execution_count": 7,
   "metadata": {},
   "outputs": [],
   "source": [
    "def create_optimizer(optimizer_name,lr):\n",
    "    if optimizer_name == \"Adam\":\n",
    "        return torch.optim.Adam(model.parameters(),lr = lr,betas = (0.9,0.999),weight_decay=0.3)\n",
    "    else:\n",
    "        return torch.optim.SGD(model.parameters(),lr = lr)\n"
   ]
  },
  {
   "cell_type": "markdown",
   "metadata": {},
   "source": [
    "Train validation and test datasets will be created on the next cell."
   ]
  },
  {
   "cell_type": "code",
   "execution_count": 8,
   "metadata": {},
   "outputs": [],
   "source": [
    "def create_data_loaders(valid_per,batch_size,num_workers):\n",
    "\n",
    "    transform = transforms.Compose([transforms.Pad(4),transforms.RandomHorizontalFlip(),transforms.RandomCrop(32),transforms.ToTensor(), transforms.Normalize((0.4914, 0.4822, 0.4465), (0.2023, 0.1994, 0.2010))])\n",
    "    test_transform  = transforms.Compose([transforms.ToTensor(),transforms.Normalize(mean=(0.5,0.5,0.5),std=(0.5,0.5,0.5))])\n",
    "    train_dataset = torchvision.datasets.CIFAR10(root='/home/computer/Desktop/mind/Machine_learning/MLP_Mixer', train=True,transform=transform, download=True)\n",
    "    test_dataset = torchvision.datasets.CIFAR10(root='/home/computer/Desktop/mind/Machine_learning/MLP_Mixer', train=False,transform=test_transform)\n",
    "\n",
    "    indices = torch.randperm(len(train_dataset))\n",
    "    split = int(np.floor((valid_per)*(len(train_dataset))))\n",
    "    t_idx, v_idx = indices[:split], indices[split:]\n",
    "    train_sampler = SubsetRandomSampler(v_idx)\n",
    "    val_sampler = SubsetRandomSampler(t_idx)\n",
    "\n",
    "    trainloader = torch.utils.data.DataLoader(\n",
    "                train_dataset, batch_size=batch_size, num_workers=num_workers, drop_last=True, sampler=train_sampler)\n",
    "    validloader = torch.utils.data.DataLoader(\n",
    "                train_dataset, batch_size=batch_size, num_workers=num_workers, drop_last=True, sampler=val_sampler)\n",
    "    testloader = torch.utils.data.DataLoader(test_dataset,batch_size=batch_size,num_workers=num_workers,drop_last=True)\n",
    "\n",
    "    return trainloader,validloader,testloader\n"
   ]
  },
  {
   "cell_type": "markdown",
   "metadata": {},
   "source": [
    "The function below saves the state of losses of the training process "
   ]
  },
  {
   "cell_type": "code",
   "execution_count": 9,
   "metadata": {},
   "outputs": [],
   "source": [
    "def save_loss_state(loss_train,loss_valid,checkpoints):\n",
    "    train = open(\"train_loss_state.txt\",\"w\")\n",
    "    train.write(str(loss_train))\n",
    "    train.close()\n",
    "    valid = open(\"valid_loss_state.txt\",\"w\")\n",
    "    valid.write(str(loss_valid))\n",
    "    valid.close()\n",
    "    check = open(\"check_state.txt\",\"w\")\n",
    "    check.write(str(loss_train))\n",
    "    check.close()"
   ]
  },
  {
   "cell_type": "markdown",
   "metadata": {},
   "source": [
    "The train function that optimizes the parameters of the model."
   ]
  },
  {
   "cell_type": "code",
   "execution_count": 10,
   "metadata": {},
   "outputs": [],
   "source": [
    "def train():\n",
    "    check_points = []\n",
    "    loss_train = []\n",
    "    loss_valid = []\n",
    "    valid_loss_min = np.Inf\n",
    "    \n",
    "    for i in tqdm(range(epoch_widget.value)):\n",
    "        print(\"Epoch - {} Started\".format(i+1))\n",
    "\n",
    "        train_loss = 0.0\n",
    "        valid_loss = 0.0\n",
    "\n",
    "        model.train()\n",
    "        for data, target in trainloader:\n",
    "            data, target = data.to(dvc), target.to(dvc)\n",
    "            optimizer.zero_grad()\n",
    "            output = model(data)\n",
    "            loss = criterion(output, target)\n",
    "            loss.backward()\n",
    "            optimizer.step()\n",
    "            train_loss += loss.item()*data.size(0)\n",
    "\n",
    "        model.eval()\n",
    "        for data, target in validloader:\n",
    "            data, target = data.to(dvc), target.to(dvc)\n",
    "            output = model(data)\n",
    "            loss = criterion(output, target)\n",
    "            valid_loss += loss.item()*data.size(0)\n",
    "\n",
    "        train_loss = train_loss/len(trainloader.sampler)\n",
    "        valid_loss = valid_loss/len(validloader.sampler)\n",
    "        loss_train.append(train_loss)\n",
    "        loss_valid.append(valid_loss)\n",
    "        print('Epoch: {} \\tTraining Loss: {:.6f} \\tValidation Loss: {:.6f}'.format(\n",
    "            i+1, train_loss, valid_loss))\n",
    "\n",
    "        if valid_loss <= valid_loss_min:\n",
    "            print('Validation loss decreased ({:.6f} --> {:.6f}).  Saving model ...'.format(\n",
    "                valid_loss_min,\n",
    "                valid_loss))\n",
    "            check_points.append(i)\n",
    "            torch.save(model.state_dict(), 'model.pt')\n",
    "            valid_loss_min = valid_loss\n",
    "    save_loss_state(loss_train,loss_valid,check_points)"
   ]
  },
  {
   "cell_type": "markdown",
   "metadata": {},
   "source": [
    "The test function that calculates the accuracy of the model."
   ]
  },
  {
   "cell_type": "code",
   "execution_count": 11,
   "metadata": {},
   "outputs": [],
   "source": [
    "def test(loader):\n",
    "    model.eval()\n",
    "    with torch.no_grad():\n",
    "        total = 0\n",
    "        correct =0\n",
    "        for images, labels in loader:\n",
    "            images = images.to(dvc)\n",
    "            labels = labels.to(dvc)\n",
    "            outputs = model(images)\n",
    "            _, predicted = torch.max(outputs.data, 1)\n",
    "            total += labels.size(0)\n",
    "            correct += (predicted == labels).sum().item()\n",
    "        print('Accuracy : {} %'.format(100 * correct / total))\n"
   ]
  },
  {
   "cell_type": "markdown",
   "metadata": {},
   "source": [
    "The predict function that takes an image and returns the predicted class."
   ]
  },
  {
   "cell_type": "code",
   "execution_count": 12,
   "metadata": {},
   "outputs": [],
   "source": [
    "def predict(images):\n",
    "    with torch.no_grad():\n",
    "        images = images.to(device)\n",
    "        outputs = model(images)\n",
    "        _, predicted = torch.max(outputs.data, 1)\n",
    "        print(f\"prediction {predicted}\")"
   ]
  },
  {
   "cell_type": "markdown",
   "metadata": {},
   "source": [
    "The function below extracts the number of samples that belongs to the each class."
   ]
  },
  {
   "cell_type": "code",
   "execution_count": 13,
   "metadata": {},
   "outputs": [],
   "source": [
    "def class_dist(dataset,num_class):\n",
    "    counter = np.ones(num_class)\n",
    "    for i in dataset:\n",
    "        counter[i[1]]+=1\n",
    "    return counter\n"
   ]
  },
  {
   "cell_type": "markdown",
   "metadata": {},
   "source": [
    "The function below visualizes a pie chart that contains informations about class distribution."
   ]
  },
  {
   "cell_type": "code",
   "execution_count": 14,
   "metadata": {},
   "outputs": [],
   "source": [
    "def class_histogram(counter):\n",
    "    plt.title(\"Class Distribution\")\n",
    "    labels = np.arange(len(counter))\n",
    "    plt.pie(counter,labels = labels,wedgeprops={\"edgecolor\":\"black\"},shadow=True,autopct=\"%1.1f%%\")\n",
    "    plt.tight_layout()\n",
    "    plt.show( )"
   ]
  },
  {
   "cell_type": "markdown",
   "metadata": {},
   "source": [
    "The function below visualizes a line plot about the training loss and also visualizes a scatter&line plot mix that contains training loss, validation loss and checkpoints."
   ]
  },
  {
   "cell_type": "code",
   "execution_count": 15,
   "metadata": {},
   "outputs": [],
   "source": [
    "def loss_analyze(train_loss,val_loss,check_points):\n",
    "    plt.style.use('seaborn')\n",
    "    lt = np.arange(len(train_loss))\n",
    "    ltc = []\n",
    "    for i in check_points:\n",
    "        ltc.append(val_loss[i])\n",
    "    fig, (ax1, ax2) = plt.subplots(nrows=2, ncols=1)\n",
    "\n",
    "    ax1.plot(lt, train_loss, color='#444444',\n",
    "            linestyle='--', label='Train Loss')\n",
    "\n",
    "\n",
    "    ax2.plot(lt, train_loss, label='Train Loss')\n",
    "    ax2.plot(lt, val_loss, label='Validation Loss')\n",
    "    ax2.scatter(check_points,ltc,label = \"Check Points\")\n",
    "    \n",
    "\n",
    "    ax1.legend()\n",
    "\n",
    "    ax1.set_title('Train Loss')\n",
    "    ax1.set_xlabel('Epochs')\n",
    "    ax1.set_ylabel('Loss')\n",
    "   \n",
    "    ax2.legend()\n",
    "\n",
    "    ax2.set_title('Train - Validation Loss with check points')\n",
    "    ax2.set_xlabel('Epochs')\n",
    "    ax2.set_ylabel('Loss')\n",
    "\n",
    "  \n",
    "\n",
    "    plt.tight_layout()\n",
    "\n",
    "    plt.show()"
   ]
  },
  {
   "cell_type": "markdown",
   "metadata": {},
   "source": [
    "Hyper parameter settings widgets"
   ]
  },
  {
   "cell_type": "code",
   "execution_count": 16,
   "metadata": {},
   "outputs": [],
   "source": [
    "lr_widget = widgets.FloatSlider(\n",
    "    value=0.0003,\n",
    "    min=0,\n",
    "    max=0.2,\n",
    "    step=0.0001,\n",
    "    description='Learning Rate',\n",
    "    disabled=False,\n",
    "    continuous_update=False,\n",
    "    orientation='horizontal',\n",
    "    readout=True,\n",
    "    readout_format='.4f',\n",
    ")\n",
    "bs_widget = widgets.IntSlider(\n",
    "    value=8,\n",
    "    min=1,\n",
    "    max=32,\n",
    "    step=1,\n",
    "    description='Batch Size',\n",
    "    disabled=False,\n",
    "    continuous_update=False,\n",
    "    orientation='horizontal',\n",
    "    readout=True,\n",
    "    readout_format='.0f',\n",
    ")\n",
    "patch_s_widget = widgets.IntSlider(\n",
    "    value=8,\n",
    "    min=4,\n",
    "    max=32,\n",
    "    step=4,\n",
    "    description='Patch size of MLP-Mixer',\n",
    "    disabled=False,\n",
    "    continuous_update=False,\n",
    "    orientation='horizontal',\n",
    "    readout=True,\n",
    "    readout_format='.0f',\n",
    ")\n",
    "valid_per_widget = widgets.FloatSlider(\n",
    "    value=0.2,\n",
    "    min=0.1,\n",
    "    max=0.9,\n",
    "    step=0.1,\n",
    "    description='% of Val',\n",
    "    disabled=False,\n",
    "    continuous_update=False,\n",
    "    orientation='horizontal',\n",
    "    readout=True,\n",
    "    readout_format='.1f',\n",
    ")\n",
    "num_workers_widget = widgets.IntSlider(\n",
    "    value=1,\n",
    "    min=1,\n",
    "    max=5,\n",
    "    step=1,\n",
    "    description='Num Workers',\n",
    "    disabled=False,\n",
    "    continuous_update=False,\n",
    "    orientation='horizontal',\n",
    "    readout=True,\n",
    "    readout_format='.0f',\n",
    ")\n"
   ]
  },
  {
   "cell_type": "code",
   "execution_count": 17,
   "metadata": {},
   "outputs": [
    {
     "data": {
      "application/vnd.jupyter.widget-view+json": {
       "model_id": "6b775ffd19e4460fada5fec0b9dee619",
       "version_major": 2,
       "version_minor": 0
      },
      "text/plain": [
       "VBox(children=(Label(value='Set Hyper Parameters'), FloatSlider(value=0.2, continuous_update=False, descriptio…"
      ]
     },
     "metadata": {},
     "output_type": "display_data"
    }
   ],
   "source": [
    "caption = widgets.Label(value='Set Hyper Parameters')\n",
    "widgets.VBox([caption,valid_per_widget, patch_s_widget,lr_widget,bs_widget,num_workers_widget])\n"
   ]
  },
  {
   "cell_type": "code",
   "execution_count": 18,
   "metadata": {},
   "outputs": [],
   "source": [
    "valid_per,batch_size,num_workers,lr,patch_s = valid_per_widget.value,bs_widget.value,num_workers_widget.value,lr_widget.value,patch_s_widget.value"
   ]
  },
  {
   "cell_type": "markdown",
   "metadata": {},
   "source": [
    "The cell below provides a widget to choose the device for computations."
   ]
  },
  {
   "cell_type": "code",
   "execution_count": 19,
   "metadata": {},
   "outputs": [
    {
     "data": {
      "application/vnd.jupyter.widget-view+json": {
       "model_id": "f391b1a2f4384e6dbb7c4393cbd3d430",
       "version_major": 2,
       "version_minor": 0
      },
      "text/plain": [
       "interactive(children=(Dropdown(description='device', options=('cuda', 'cpu'), value='cuda'), Output()), _dom_c…"
      ]
     },
     "metadata": {},
     "output_type": "display_data"
    }
   ],
   "source": [
    "def f(device):\n",
    "    global dvc\n",
    "    if device == \"cuda\" and torch.cuda.is_available(): \n",
    "        dvc = \"cuda\"\n",
    "        print(\"Device selected as cuda\")\n",
    "        return \"cuda\"\n",
    "    elif device == \"cuda\":\n",
    "        dvc = \"cpu\"\n",
    "        print(\"Device selected as cpu, cuda is not avaliable\")\n",
    "        return \"cpu\"\n",
    "    else:\n",
    "        dvc = \"cpu\"\n",
    "        print(\"Device selected as cpu\")\n",
    "        return \"cpu\"\n",
    "device_widget = interact(f, device=['cuda','cpu'])"
   ]
  },
  {
   "cell_type": "markdown",
   "metadata": {},
   "source": [
    "Create and initiliaze the model."
   ]
  },
  {
   "cell_type": "code",
   "execution_count": 20,
   "metadata": {},
   "outputs": [],
   "source": [
    "model = create_model(patch_s)\n",
    "init_params(param_path)"
   ]
  },
  {
   "cell_type": "markdown",
   "metadata": {},
   "source": [
    "Create the optimizer."
   ]
  },
  {
   "cell_type": "code",
   "execution_count": 21,
   "metadata": {},
   "outputs": [
    {
     "data": {
      "application/vnd.jupyter.widget-view+json": {
       "model_id": "3f3ea219358949c9a0e0cf9f10f80aa0",
       "version_major": 2,
       "version_minor": 0
      },
      "text/plain": [
       "interactive(children=(Dropdown(description='Optimizer', options=('Adam', 'SGD'), value='Adam'), Output()), _do…"
      ]
     },
     "metadata": {},
     "output_type": "display_data"
    }
   ],
   "source": [
    "def op(Optimizer):\n",
    "    print(\"Optimizer selected as \"+Optimizer)\n",
    "    global optimizer \n",
    "    optimizer = create_optimizer(Optimizer,lr)\n",
    "    return Optimizer\n",
    "optimizer_widget = interact(op, Optimizer=['Adam','SGD']);"
   ]
  },
  {
   "cell_type": "markdown",
   "metadata": {},
   "source": [
    "The widget below lets the user to choose epoch number to train and validate."
   ]
  },
  {
   "cell_type": "code",
   "execution_count": 22,
   "metadata": {},
   "outputs": [
    {
     "data": {
      "application/vnd.jupyter.widget-view+json": {
       "model_id": "34382051c53f44ba969657680a7a3698",
       "version_major": 2,
       "version_minor": 0
      },
      "text/plain": [
       "IntSlider(value=1, continuous_update=False, description='Epoch number', min=1, readout_format='.0f')"
      ]
     },
     "metadata": {},
     "output_type": "display_data"
    }
   ],
   "source": [
    "epoch_widget = widgets.IntSlider(\n",
    "    value=1,\n",
    "    min=1,\n",
    "    max=100,\n",
    "    step=1,\n",
    "    description='Epoch number',\n",
    "    disabled=False,\n",
    "    continuous_update=False,\n",
    "    orientation='horizontal',\n",
    "    readout=True,\n",
    "    readout_format='.0f',\n",
    ")\n",
    "epoch_widget"
   ]
  },
  {
   "cell_type": "markdown",
   "metadata": {},
   "source": [
    "Create the dataloaders."
   ]
  },
  {
   "cell_type": "code",
   "execution_count": 23,
   "metadata": {},
   "outputs": [
    {
     "name": "stdout",
     "output_type": "stream",
     "text": [
      "Files already downloaded and verified\n"
     ]
    }
   ],
   "source": [
    "trainloader, validloader, testloader = create_data_loaders(valid_per,batch_size,num_workers)"
   ]
  },
  {
   "cell_type": "markdown",
   "metadata": {},
   "source": [
    "Train the model."
   ]
  },
  {
   "cell_type": "code",
   "execution_count": 24,
   "metadata": {},
   "outputs": [],
   "source": [
    "train()"
   ]
  },
  {
   "cell_type": "markdown",
   "metadata": {},
   "source": [
    "The cell below provides a widget to choose a dataset for the purpose of calculating accuracy."
   ]
  },
  {
   "cell_type": "code",
   "execution_count": 24,
   "metadata": {},
   "outputs": [
    {
     "data": {
      "application/vnd.jupyter.widget-view+json": {
       "model_id": "b6d3a5983bcb4477892915e6ffd733d2",
       "version_major": 2,
       "version_minor": 0
      },
      "text/plain": [
       "interactive(children=(Dropdown(description='dataset', options=('test', 'validation', 'train'), value='test'), …"
      ]
     },
     "metadata": {},
     "output_type": "display_data"
    }
   ],
   "source": [
    "def op(dataset):\n",
    "    global data2test\n",
    "    \n",
    "    if(dataset == \"train\"):\n",
    "        data2test = trainloader\n",
    "        print(\"Dataset selected as \")\n",
    "        return dataset\n",
    "    elif(dataset == \"validation\"):\n",
    "        data2test = validloader\n",
    "        print(\"Dataset selected as \")\n",
    "        return dataset\n",
    "    else:\n",
    "        data2test = testloader\n",
    "        print(\"Dataset selected as \")\n",
    "        return dataset\n",
    "test_widget = interact(op, dataset=['test','validation','train']);\n"
   ]
  },
  {
   "cell_type": "code",
   "execution_count": 25,
   "metadata": {},
   "outputs": [
    {
     "name": "stdout",
     "output_type": "stream",
     "text": [
      "Accuracy : 71.0 %\n"
     ]
    }
   ],
   "source": [
    "test(data2test) # Test Dataset"
   ]
  },
  {
   "cell_type": "markdown",
   "metadata": {},
   "source": [
    "LOSS, Train Validation Trade-off, Checkpoints"
   ]
  },
  {
   "cell_type": "code",
   "execution_count": 28,
   "metadata": {},
   "outputs": [
    {
     "data": {
      "text/plain": [
       "<matplotlib.image.AxesImage at 0x7f605adf90a0>"
      ]
     },
     "execution_count": 28,
     "metadata": {},
     "output_type": "execute_result"
    },
    {
     "data": {
      "image/png": "[encoded data removed]",
      "text/plain": [
       "<Figure size 1440x720 with 1 Axes>"
      ]
     },
     "metadata": {
      "needs_background": "light"
     },
     "output_type": "display_data"
    }
   ],
   "source": [
    "img = Image.open(\"fig.png\") # the result of loss_analyze function\n",
    "plt.figure(figsize=(20,10))\n",
    "plt.imshow(img)\n"
   ]
  }
 ],
 "metadata": {
  "interpreter": {
   "hash": "d5685fc1ae7990eecb1e764b7accbf55b66ada28e6d2f75bd22a6963da0cb178"
  },
  "kernelspec": {
   "display_name": "Python 3.8.8 64-bit ('base': conda)",
   "language": "python",
   "name": "python3"
  },
  "language_info": {
   "codemirror_mode": {
    "name": "ipython",
    "version": 3
   },
   "file_extension": ".py",
   "mimetype": "text/x-python",
   "name": "python",
   "nbconvert_exporter": "python",
   "pygments_lexer": "ipython3",
   "version": "3.8.8"
  },
  "orig_nbformat": 4
 },
 "nbformat": 4,
 "nbformat_minor": 2
}
